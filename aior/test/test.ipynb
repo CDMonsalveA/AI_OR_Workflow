{
 "cells": [
  {
   "cell_type": "code",
   "execution_count": 23,
   "metadata": {},
   "outputs": [
    {
     "name": "stdout",
     "output_type": "stream",
     "text": [
      "loading to pulp ...\n"
     ]
    }
   ],
   "source": [
    "import sys\n",
    "sys.path.append(\"..\")\n",
    "from lp import UFLP, CFLP, TELP\n",
    "import sys\n",
    "import pandas as pd\n",
    "\n",
    "# Parameters needed for UFLP\n",
    "    # h_i : demand of customer i\n",
    "    # c_ij: cost to transform one unit of demand from facility j to customer i\n",
    "    # f_j : fixed cost to open a facility at site j\n",
    "\n",
    "# Explanation of the parameters\n",
    "    # population: population = column year of the aior\\test\\data\\poblacion_por_municipio_total.csv\n",
    "    # consumption: amount of product consumed per person (default 1) \n",
    "\n",
    "# h_i = population[year] * consumption\n",
    "# c_ij = Distance between the facility j and the customer i * cost of transporting one unit of product\n",
    "# f_j = Cost of opening a facility at site j (fixed cost, default 1)\n",
    "\n",
    "population = pd.read_csv('data//poblacion_por_municipio_total.csv').drop_duplicates(subset='dpmp')\n",
    "population = population.fillna(0) # fill nan values with 0\n",
    "\n",
    "distances = pd.read_csv('data//distance_matrix.csv')\n",
    "distances = distances.fillna(0) # Any nan value is replaced by 0\n",
    "# list of 1s with the same length as the number of facilities\n",
    "\n",
    "facility_cost = [1 for i in range(len(distances))]\n",
    "# turn them into lists\n",
    "population = population['2024'].tolist()\n",
    "distances = distances.iloc[1:,1:].values.tolist()\n",
    "\n",
    "uflp = UFLP(\n",
    "            population,# h_i : demand of customer i\n",
    "            distances,# c_ij: cost to transform one unit of demand from facility j to customer i\n",
    "            facility_cost# f_j : fixed cost to open a facility at site j\n",
    ")\n",
    "\n",
    "uflp.pulp_solve()\n"
   ]
  }
 ],
 "metadata": {
  "kernelspec": {
   "display_name": ".venv",
   "language": "python",
   "name": "python3"
  },
  "language_info": {
   "codemirror_mode": {
    "name": "ipython",
    "version": 3
   },
   "file_extension": ".py",
   "mimetype": "text/x-python",
   "name": "python",
   "nbconvert_exporter": "python",
   "pygments_lexer": "ipython3",
   "version": "3.10.13"
  }
 },
 "nbformat": 4,
 "nbformat_minor": 2
}
