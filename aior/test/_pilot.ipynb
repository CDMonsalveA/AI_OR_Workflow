{
 "cells": [
  {
   "cell_type": "markdown",
   "metadata": {},
   "source": [
    "# Uncapacitated Facility Location Problem"
   ]
  },
  {
   "cell_type": "markdown",
   "metadata": {},
   "source": [
    "## Load the data"
   ]
  },
  {
   "cell_type": "code",
   "execution_count": 16,
   "metadata": {},
   "outputs": [],
   "source": [
    "#### Loading the data\n",
    "import os\n",
    "import pandas as pd # type: ignore\n",
    "\n",
    "# Parameters\n",
    "\n",
    "#### food demand ####\n",
    "food_per_person = 1.3 / 1000 # Tons per person\n",
    "\n",
    "#### transportation costs ####\n",
    "transportation_cost = 3364 / 10.5 # COP per ton per km\n",
    "\n",
    "#### facility costs ####\n",
    "### renting a warehouse\n",
    "warehouse_cost_per_m2 = 24450 / 4 # COP/semana\n",
    "### How much space is needed per ton of food\n",
    "space_per_ton = 10.5/7.8 * 1.1 # ton per m2\n",
    "\n",
    "# path to the data\n",
    "data_path = 'data'\n",
    "municipios_filename = 'municipios_procesado.csv'\n",
    "distance_matrix_filename = 'distance_matrix_final.csv'\n",
    "# load the data\n",
    "population = pd.read_csv(os.path.join(data_path, municipios_filename),\n",
    "                         usecols=['c_digo_dane_del_departamento', 'dpmp', '2024'])\n",
    "distance_matrix = pd.read_csv(os.path.join(data_path, distance_matrix_filename),\n",
    "                              index_col='dpmp')\n",
    "\n",
    "# calculate the population per department = sum of the population of the municipalities in the department placed for each municipality in the department\n",
    "population_per_department = population.groupby('c_digo_dane_del_departamento').sum()\n",
    "population['population_per_department'] = population['c_digo_dane_del_departamento'].map(population_per_department['2024'])"
   ]
  },
  {
   "cell_type": "code",
   "execution_count": null,
   "metadata": {},
   "outputs": [],
   "source": [
    "# Check for missing values\n",
    "import missingno as msno\n",
    "msno.matrix(population)\n"
   ]
  },
  {
   "cell_type": "markdown",
   "metadata": {},
   "source": [
    "## Load the Model"
   ]
  },
  {
   "cell_type": "code",
   "execution_count": 17,
   "metadata": {},
   "outputs": [],
   "source": [
    "import sys\n",
    "sys.path.append(\"..\")\n",
    "from lp.uflp import UFLP\n",
    "\n",
    "# h_i: demand of food in municipality i\n",
    "h = population['2024'] * food_per_person\n",
    "# c_ij: cost of transporting food from municipality i to j\n",
    "c = distance_matrix * transportation_cost\n",
    "# f_i: cost of building a warehouse in municipality i warehouse_cost_per_m2 * space_per_ton * department_demand\n",
    "f = warehouse_cost_per_m2 * space_per_ton * population['population_per_department'] * food_per_person\n",
    "\n",
    "# Turn the data to lists\n",
    "h = h.tolist()\n",
    "c = c.values.tolist()\n",
    "f = f.tolist()\n",
    "uflp = UFLP(h, c, f)\n",
    "uflp.load_to_pulp()\n"
   ]
  },
  {
   "cell_type": "markdown",
   "metadata": {},
   "source": [
    "## Solve the problem"
   ]
  },
  {
   "cell_type": "code",
   "execution_count": 23,
   "metadata": {},
   "outputs": [
    {
     "ename": "PulpSolverError",
     "evalue": "Pulp: Error while executing c:\\Users\\User\\OneDrive\\1_ Universidad\\Trabajo de Grado\\1. Proyecto de Grado\\2. Expertimentación\\AI_OR_Workflow\\.venv\\Lib\\site-packages\\pulp\\solverdir\\cbc\\win\\64\\cbc.exe",
     "output_type": "error",
     "traceback": [
      "\u001b[1;31m---------------------------------------------------------------------------\u001b[0m",
      "\u001b[1;31mPulpSolverError\u001b[0m                           Traceback (most recent call last)",
      "Cell \u001b[1;32mIn[23], line 2\u001b[0m\n\u001b[0;32m      1\u001b[0m \u001b[38;5;66;03m#### Solving the problem\u001b[39;00m\n\u001b[1;32m----> 2\u001b[0m \u001b[43muflp\u001b[49m\u001b[38;5;241;43m.\u001b[39;49m\u001b[43msolve_by_pulp\u001b[49m\u001b[43m(\u001b[49m\u001b[43m)\u001b[49m\n",
      "File \u001b[1;32mc:\\Users\\User\\OneDrive\\1_ Universidad\\Trabajo de Grado\\1. Proyecto de Grado\\2. Expertimentación\\AI_OR_Workflow\\aior\\test\\..\\lp\\uflp.py:121\u001b[0m, in \u001b[0;36mUFLP.solve_by_pulp\u001b[1;34m(self, solver)\u001b[0m\n\u001b[0;32m    101\u001b[0m \u001b[38;5;28;01mdef\u001b[39;00m \u001b[38;5;21msolve_by_pulp\u001b[39m(\u001b[38;5;28mself\u001b[39m, solver\u001b[38;5;241m=\u001b[39mPULP_CBC_CMD()):\n\u001b[0;32m    102\u001b[0m \u001b[38;5;250m    \u001b[39m\u001b[38;5;124;03m\"\"\"\u001b[39;00m\n\u001b[0;32m    103\u001b[0m \u001b[38;5;124;03m    Solve the UFLP by Pulp\u001b[39;00m\n\u001b[0;32m    104\u001b[0m \n\u001b[1;32m   (...)\u001b[0m\n\u001b[0;32m    119\u001b[0m \n\u001b[0;32m    120\u001b[0m \u001b[38;5;124;03m    \"\"\"\u001b[39;00m\n\u001b[1;32m--> 121\u001b[0m     \u001b[38;5;28;43mself\u001b[39;49m\u001b[38;5;241;43m.\u001b[39;49m\u001b[43mpulp_model\u001b[49m\u001b[38;5;241;43m.\u001b[39;49m\u001b[43msolve\u001b[49m\u001b[43m(\u001b[49m\u001b[43msolver\u001b[49m\u001b[38;5;241;43m=\u001b[39;49m\u001b[43msolver\u001b[49m\u001b[43m)\u001b[49m\n",
      "File \u001b[1;32mc:\\Users\\User\\OneDrive\\1_ Universidad\\Trabajo de Grado\\1. Proyecto de Grado\\2. Expertimentación\\AI_OR_Workflow\\.venv\\Lib\\site-packages\\pulp\\pulp.py:1883\u001b[0m, in \u001b[0;36mLpProblem.solve\u001b[1;34m(self, solver, **kwargs)\u001b[0m\n\u001b[0;32m   1881\u001b[0m \u001b[38;5;66;03m# time it\u001b[39;00m\n\u001b[0;32m   1882\u001b[0m \u001b[38;5;28mself\u001b[39m\u001b[38;5;241m.\u001b[39mstartClock()\n\u001b[1;32m-> 1883\u001b[0m status \u001b[38;5;241m=\u001b[39m \u001b[43msolver\u001b[49m\u001b[38;5;241;43m.\u001b[39;49m\u001b[43mactualSolve\u001b[49m\u001b[43m(\u001b[49m\u001b[38;5;28;43mself\u001b[39;49m\u001b[43m,\u001b[49m\u001b[43m \u001b[49m\u001b[38;5;241;43m*\u001b[39;49m\u001b[38;5;241;43m*\u001b[39;49m\u001b[43mkwargs\u001b[49m\u001b[43m)\u001b[49m\n\u001b[0;32m   1884\u001b[0m \u001b[38;5;28mself\u001b[39m\u001b[38;5;241m.\u001b[39mstopClock()\n\u001b[0;32m   1885\u001b[0m \u001b[38;5;28mself\u001b[39m\u001b[38;5;241m.\u001b[39mrestoreObjective(wasNone, dummyVar)\n",
      "File \u001b[1;32mc:\\Users\\User\\OneDrive\\1_ Universidad\\Trabajo de Grado\\1. Proyecto de Grado\\2. Expertimentación\\AI_OR_Workflow\\.venv\\Lib\\site-packages\\pulp\\apis\\coin_api.py:112\u001b[0m, in \u001b[0;36mCOIN_CMD.actualSolve\u001b[1;34m(self, lp, **kwargs)\u001b[0m\n\u001b[0;32m    110\u001b[0m \u001b[38;5;28;01mdef\u001b[39;00m \u001b[38;5;21mactualSolve\u001b[39m(\u001b[38;5;28mself\u001b[39m, lp, \u001b[38;5;241m*\u001b[39m\u001b[38;5;241m*\u001b[39mkwargs):\n\u001b[0;32m    111\u001b[0m \u001b[38;5;250m    \u001b[39m\u001b[38;5;124;03m\"\"\"Solve a well formulated lp problem\"\"\"\u001b[39;00m\n\u001b[1;32m--> 112\u001b[0m     \u001b[38;5;28;01mreturn\u001b[39;00m \u001b[38;5;28;43mself\u001b[39;49m\u001b[38;5;241;43m.\u001b[39;49m\u001b[43msolve_CBC\u001b[49m\u001b[43m(\u001b[49m\u001b[43mlp\u001b[49m\u001b[43m,\u001b[49m\u001b[43m \u001b[49m\u001b[38;5;241;43m*\u001b[39;49m\u001b[38;5;241;43m*\u001b[39;49m\u001b[43mkwargs\u001b[49m\u001b[43m)\u001b[49m\n",
      "File \u001b[1;32mc:\\Users\\User\\OneDrive\\1_ Universidad\\Trabajo de Grado\\1. Proyecto de Grado\\2. Expertimentación\\AI_OR_Workflow\\.venv\\Lib\\site-packages\\pulp\\apis\\coin_api.py:188\u001b[0m, in \u001b[0;36mCOIN_CMD.solve_CBC\u001b[1;34m(self, lp, use_mps)\u001b[0m\n\u001b[0;32m    186\u001b[0m     pipe\u001b[38;5;241m.\u001b[39mclose()\n\u001b[0;32m    187\u001b[0m \u001b[38;5;28;01mif\u001b[39;00m \u001b[38;5;129;01mnot\u001b[39;00m os\u001b[38;5;241m.\u001b[39mpath\u001b[38;5;241m.\u001b[39mexists(tmpSol):\n\u001b[1;32m--> 188\u001b[0m     \u001b[38;5;28;01mraise\u001b[39;00m PulpSolverError(\u001b[38;5;124m\"\u001b[39m\u001b[38;5;124mPulp: Error while executing \u001b[39m\u001b[38;5;124m\"\u001b[39m \u001b[38;5;241m+\u001b[39m \u001b[38;5;28mself\u001b[39m\u001b[38;5;241m.\u001b[39mpath)\n\u001b[0;32m    189\u001b[0m (\n\u001b[0;32m    190\u001b[0m     status,\n\u001b[0;32m    191\u001b[0m     values,\n\u001b[1;32m   (...)\u001b[0m\n\u001b[0;32m    195\u001b[0m     sol_status,\n\u001b[0;32m    196\u001b[0m ) \u001b[38;5;241m=\u001b[39m \u001b[38;5;28mself\u001b[39m\u001b[38;5;241m.\u001b[39mreadsol_MPS(tmpSol, lp, vs, variablesNames, constraintsNames)\n\u001b[0;32m    197\u001b[0m lp\u001b[38;5;241m.\u001b[39massignVarsVals(values)\n",
      "\u001b[1;31mPulpSolverError\u001b[0m: Pulp: Error while executing c:\\Users\\User\\OneDrive\\1_ Universidad\\Trabajo de Grado\\1. Proyecto de Grado\\2. Expertimentación\\AI_OR_Workflow\\.venv\\Lib\\site-packages\\pulp\\solverdir\\cbc\\win\\64\\cbc.exe"
     ]
    }
   ],
   "source": [
    "#### Solving the problem\n",
    "uflp.solve_by_pulp()"
   ]
  },
  {
   "cell_type": "code",
   "execution_count": 21,
   "metadata": {},
   "outputs": [],
   "source": [
    "#### Saving the solution\n"
   ]
  },
  {
   "cell_type": "markdown",
   "metadata": {},
   "source": [
    "## Display the data"
   ]
  },
  {
   "cell_type": "code",
   "execution_count": 22,
   "metadata": {},
   "outputs": [],
   "source": [
    "#### Plotting the solution"
   ]
  },
  {
   "cell_type": "markdown",
   "metadata": {},
   "source": [
    "## END"
   ]
  }
 ],
 "metadata": {
  "kernelspec": {
   "display_name": ".venv",
   "language": "python",
   "name": "python3"
  },
  "language_info": {
   "codemirror_mode": {
    "name": "ipython",
    "version": 3
   },
   "file_extension": ".py",
   "mimetype": "text/x-python",
   "name": "python",
   "nbconvert_exporter": "python",
   "pygments_lexer": "ipython3",
   "version": "3.11.9"
  }
 },
 "nbformat": 4,
 "nbformat_minor": 2
}
