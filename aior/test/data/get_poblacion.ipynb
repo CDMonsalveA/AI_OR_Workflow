{
 "cells": [
  {
   "cell_type": "code",
   "execution_count": 2,
   "metadata": {},
   "outputs": [],
   "source": [
    "import pandas as pd\n",
    "\n",
    "def get_poblacion()->pd.DataFrame:\n",
    "    \"\"\"\n",
    "    Obtiene de los archivos\n",
    "        aior\\test\\data\\poblacion_por_municipios\\DCD-area-proypoblacion-Mun-1985-1994 (1).xlsx\n",
    "        aior\\test\\data\\poblacion_por_municipios\\DCD-area-proypoblacion-Mun-1995-2004 (2).xlsx\n",
    "        aior\\test\\data\\poblacion_por_municipios\\DCD-area-proypoblacion-Mun-2005-2019 (2).xlsx\n",
    "        aior\\test\\data\\poblacion_por_municipios\\DCD-area-proypoblacion-Mun-2020-2035-ActPostCOVID-19 (2).xlsx\n",
    "    los datos de población por municipio y año.\n",
    "\n",
    "    Returns\n",
    "    -------\n",
    "    DataFrame\n",
    "        DataFrame con los datos de población por municipio y año.\n",
    "    \"\"\"\n",
    "    \n",
    "    # Carga de datos\n",
    "    df_1985_1994 = pd.read_excel('poblacion_por_municipios\\\\DCD-area-proypoblacion-Mun-1985-1994 (1).xlsx')\n",
    "    df_1995_2004 = pd.read_excel('poblacion_por_municipios\\\\DCD-area-proypoblacion-Mun-1995-2004 (2).xlsx')\n",
    "    df_2005_2019 = pd.read_excel('poblacion_por_municipios\\\\DCD-area-proypoblacion-Mun-2005-2019 (2).xlsx')\n",
    "    # TODO: #7 Anotar que en este archivo 2005-2019 hay un error en las columnas, se debe cambiar dpmp y mpio de lugar\n",
    "    df_2020_2035 = pd.read_excel('poblacion_por_municipios\\\\DCD-area-proypoblacion-Mun-2020-2035-ActPostCOVID-19 (2).xlsx')\n",
    "    # Concatenación de los datos\n",
    "    df = pd.concat([df_1985_1994, df_1995_2004, df_2005_2019, df_2020_2035], ignore_index=True)\n",
    "    # turn column names into lowercase\n",
    "    df.columns = df.columns.str.lower()\n",
    "    columns = df.columns # ['dp', 'dpnom', 'dpmp', 'mpio', 'año', 'área geográfica', 'población']\n",
    "    area_uniques = df['área geográfica'].unique() # ['Cabecera Municipal' 'Centros Poblados y Rural Disperso' 'Total']\n",
    "    # Turn area uniques into columns for the same dp and dpmp and año\n",
    "    df = df.pivot_table(index=['dp', 'dpnom', 'dpmp', 'mpio', 'año'], columns='área geográfica', values='población').reset_index()\n",
    "    df.columns = df.columns.str.lower()\n",
    "    # turn dpmp values into string\n",
    "    df['dpmp'] = df['dpmp'].astype(str)\n",
    "    df['dpmp'] = df['dpmp'].apply(lambda x: \"0\" + x if len(x) != 5 else x)\n",
    "    return df\n",
    "\n",
    "def pivot_per_municipio(df:pd.DataFrame)->pd.DataFrame:\n",
    "    # TODO: #8 Hacer el docstring\n",
    "    cabecera = df.pivot_table(index=['dp', 'dpnom', 'dpmp', 'mpio'], columns='año', values='cabecera municipal').reset_index()\n",
    "    centros_poblados = df.pivot_table(index=['dp', 'dpnom', 'dpmp', 'mpio'], columns='año', values='centros poblados y rural disperso').reset_index()\n",
    "    total = df.pivot_table(index=['dp', 'dpnom', 'dpmp', 'mpio'], columns='año', values='total').reset_index()\n",
    "    return total, cabecera, centros_poblados\n",
    "poblacion = get_poblacion()\n",
    "por_municipio_total, por_municipio_cabecera, por_municipio_centros_poblados = pivot_per_municipio(poblacion)\n",
    "por_municipio_total.to_csv('poblacion_por_municipio_total.csv',index=False)\n",
    "por_municipio_cabecera.to_csv('poblacion_por_municipio_cabecera.csv', index=False)\n",
    "por_municipio_centros_poblados.to_csv('poblacion_por_municipio_centros_poblados.csv', index=False)"
   ]
  },
  {
   "cell_type": "code",
   "execution_count": 7,
   "metadata": {},
   "outputs": [
    {
     "name": "stdout",
     "output_type": "stream",
     "text": [
      "There are duplicated dpmp values 1122\n"
     ]
    }
   ],
   "source": []
  },
  {
   "cell_type": "code",
   "execution_count": null,
   "metadata": {},
   "outputs": [],
   "source": []
  }
 ],
 "metadata": {
  "kernelspec": {
   "display_name": ".venv",
   "language": "python",
   "name": "python3"
  },
  "language_info": {
   "codemirror_mode": {
    "name": "ipython",
    "version": 3
   },
   "file_extension": ".py",
   "mimetype": "text/x-python",
   "name": "python",
   "nbconvert_exporter": "python",
   "pygments_lexer": "ipython3",
   "version": "3.11.8"
  }
 },
 "nbformat": 4,
 "nbformat_minor": 2
}
