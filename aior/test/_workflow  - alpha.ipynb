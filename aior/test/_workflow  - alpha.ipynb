{
 "cells": [
  {
   "cell_type": "markdown",
   "metadata": {},
   "source": [
    "# Uncapacitated Facility Location Problem"
   ]
  },
  {
   "cell_type": "code",
   "execution_count": 31,
   "metadata": {},
   "outputs": [],
   "source": [
    "#\n",
    "import os\n",
    "import sys\n",
    "import time\n",
    "import pandas as pd\n",
    "import numpy as np\n",
    "import matplotlib.pyplot as plt\n",
    "\n",
    "sys.path.append(\"..\")\n",
    "\n",
    "# Personal modules\n",
    "from lp.uflp import UFLP\n",
    "from lp.cflp import CFLP\n",
    "from lp.telp import TELP\n",
    "\n",
    "# Plotting modules\n",
    "import plotly.express as px\n",
    "import plotly.graph_objects as go\n",
    "\n",
    "# Linear programming modules\n",
    "import pulp\n",
    "\n",
    "# Machine learning modules\n",
    "from sklearn.model_selection import train_test_split\n",
    "from sklearn.preprocessing import StandardScaler\n",
    "from sklearn.preprocessing import LabelEncoder\n",
    "from sklearn.preprocessing import MinMaxScaler\n",
    "\n",
    "# == Regression\n",
    "from sklearn.linear_model import LinearRegression\n",
    "from sklearn.tree import DecisionTreeRegressor\n",
    "from sklearn.svm import SVR\n",
    "from sklearn.ensemble import RandomForestRegressor\n",
    "\n",
    "# == Classification\n",
    "from sklearn.tree import DecisionTreeClassifier\n",
    "from sklearn.discriminant_analysis import LinearDiscriminantAnalysis\n",
    "from sklearn.linear_model import LogisticRegression\n",
    "from sklearn.svm import SVC\n",
    "\n",
    "# == Clustering\n",
    "from sklearn.cluster import KMeans\n",
    "from sklearn_som.som import SOM\n",
    "from sklearn.cluster import AgglomerativeClustering\n",
    "from sklearn.cluster import DBSCAN\n",
    "\n",
    "# == Neural Networks\n",
    "from sklearn.neural_network import MLPClassifier\n",
    "from sklearn.neural_network import MLPRegressor\n",
    "\n",
    "# == Metrics\n",
    "from sklearn.metrics import r2_score\n",
    "from sklearn.metrics import mean_squared_error\n",
    "from sklearn.metrics import mean_absolute_error\n",
    "from sklearn.metrics import accuracy_score\n",
    "from sklearn.metrics import confusion_matrix\n",
    "from sklearn.metrics import silhouette_score\n",
    "from sklearn.metrics import davies_bouldin_score\n",
    "from sklearn.metrics import precision_score\n",
    "from sklearn.metrics import classification_report\n"
   ]
  },
  {
   "cell_type": "markdown",
   "metadata": {},
   "source": [
    "## Load the data"
   ]
  },
  {
   "cell_type": "code",
   "execution_count": 32,
   "metadata": {},
   "outputs": [
    {
     "name": "stdout",
     "output_type": "stream",
     "text": [
      "parameters: \n",
      "    food_per_person_per_day: 0.00087617 \n",
      "    transport_cost_per_ton_per_km: 3364.0\n",
      "\n",
      "data information: \n",
      "    population: (1117, 71) \n",
      "    distance: (1117, 1117) \n",
      "    warehouses: \n",
      "    Type  capacity_ton        cost\n",
      "0     1          1074   731159925\n",
      "1     2          2418  1129212606\n",
      "2     3          9672  4516850424 \n",
      "\n",
      "population memory usage: 0.61 MB\n",
      "distance memory usage: 9.56 MB\n",
      "warehouses memory usage: 0.00 MB\n",
      "Elapsed time: 0.41 s\n"
     ]
    }
   ],
   "source": [
    "# import the data and parameters and check the data\n",
    "\n",
    "data_path = \"data/\"\n",
    "start_time = time.time()\n",
    "# ====Parameters==== #\n",
    "parameters = pd.read_csv(os.path.join(data_path, \"parametros.csv\"))\n",
    "# 1. food_per_person_per_day in tons per day\n",
    "food_per_person_per_day = float(\n",
    "    parameters.loc[parameters[\"parametro\"] == \"comida_por_persona_en_toneladas\"].values[\n",
    "        0\n",
    "    ][1]\n",
    ")\n",
    "# 2. transport_cost_per_ton_per_km in COP per ton per km\n",
    "transport_cost_per_ton_per_km = float(\n",
    "    parameters.loc[\n",
    "        parameters[\"parametro\"] == \"costo_de_transporte_por_tonelada_por_kilomentro\"\n",
    "    ].values[0][1]\n",
    ")\n",
    "\n",
    "print(\n",
    "    f\"parameters: \\n    food_per_person_per_day: {food_per_person_per_day} \\n    transport_cost_per_ton_per_km: {transport_cost_per_ton_per_km}\\n\"\n",
    ")\n",
    "# ====Parameters==== #\n",
    "\n",
    "# ====importData==== #\n",
    "# 1. population, from data/municipios_procesado.csv\n",
    "population = pd.read_csv(\n",
    "    os.path.join(data_path, \"municipios_procesado.csv\"), index_col=3\n",
    ")\n",
    "# 2. distance, from data/distance_matrix_final.csv\n",
    "distance = pd.read_csv(\n",
    "    os.path.join(data_path, \"distance_matrix_final.csv\"), index_col=0\n",
    ")\n",
    "# 3. warehouses, from data/almacenes.csv\n",
    "warehouses = pd.read_csv(os.path.join(data_path, \"almacenes.csv\"))\n",
    "# ====importData==== #\n",
    "\n",
    "# ====DataProcessing===== #\n",
    "# fill the nan values in population with the minimum '2024' from the departamento of Chocó for the columns 22:\n",
    "population.loc[population.isna().any(axis=1), population.columns[18:]] = (\n",
    "    population[\n",
    "        population[\"2024\"]\n",
    "        == population.loc[population[\"departamento\"] == \"Chocó\"][\"2024\"].min()\n",
    "    ]\n",
    "    .iloc[0, 18:]\n",
    "    .values\n",
    ")\n",
    "# drop the municipalities with nan values in the first column of the distance matrix\n",
    "distance = distance.dropna(subset=[distance.columns[0]], axis=0)\n",
    "distance = distance.dropna(subset=[distance.index[0]], axis=1)\n",
    "# select only the rows in population dpmp that the index is in distance\n",
    "population = population.loc[distance.index]\n",
    "# turn the columns of distance into integers\n",
    "distance.columns = distance.columns.astype(int)\n",
    "print(\n",
    "    f\"data information: \\n    population: {population.shape} \\n    distance: {distance.shape} \\n    warehouses: \\n {warehouses} \\n\"\n",
    ")\n",
    "# ====DataProcessing===== #\n",
    "\n",
    "# ====DataInformation==== #\n",
    "# Memory usage of the data\n",
    "print(f\"population memory usage: {population.memory_usage().sum()/1024**2:.2f} MB\")\n",
    "print(f\"distance memory usage: {distance.memory_usage().sum()/1024**2:.2f} MB\")\n",
    "print(f\"warehouses memory usage: {warehouses.memory_usage().sum()/1024**2:.2f} MB\")\n",
    "# ====DataInformation==== #\n",
    "\n",
    "# ====DataChecking==== #\n",
    "# Test to the data if needed\n",
    "# ====DataChecking==== #\n",
    "print(f\"Elapsed time: {time.time() - start_time:.2f} s\")\n"
   ]
  },
  {
   "cell_type": "markdown",
   "metadata": {},
   "source": [
    "## 1. Demand Forecast\n",
    "\n",
    "we are using the data from the population dataset that has the colombian census information since 1985 to 2035, the current year is 2024 and the last census was performed in 2018, the data was taken on december 2023 from the DANE web page.\n",
    "\n",
    "First we need to check the current forecast, then use 4 ML algorithms and Deep Learning to create a new model. The Machine Learning algorithms are:\n",
    "- Multiple Linear Regression.\n",
    "- Regression Tree.\n",
    "- Support Vector Machine.\n",
    "- Random Forest Regression.\n",
    "\n",
    "Then, we need the Mean Absolute Error (MAE) to compare the models. The best model will be used to forecast the demand for the next 30 years."
   ]
  },
  {
   "cell_type": "code",
   "execution_count": 33,
   "metadata": {},
   "outputs": [
    {
     "name": "stdout",
     "output_type": "stream",
     "text": [
      "Multiple Linear Regression: 2.53 s\n",
      "    Mean Absolute Error: 0.428457750684778\n",
      "    Mean Squared Error: 0.3664370666800922\n",
      "    R2 Score: 0.5860169997999521\n",
      "Regression Tree: 1.96 s\n",
      "    Mean Absolute Error: 0.09093062070801274\n",
      "    Mean Squared Error: 0.032517679104043365\n",
      "    R2 Score: 0.9672813069578106\n",
      "Support Vector Machine: 2.12 s\n",
      "    Mean Absolute Error: 0.10992893224062007\n",
      "    Mean Squared Error: 0.05873704491266884\n",
      "    R2 Score: 0.9431877181416908\n",
      "Random Forest Regression: 122.51 s\n",
      "    Mean Absolute Error: 0.05798179811878402\n",
      "    Mean Squared Error: 0.020192594621983074\n",
      "    R2 Score: 0.9803294764196256\n",
      "\n",
      "Best model: RandomForestRegressor(max_depth=10)\n"
     ]
    }
   ],
   "source": [
    "# ## 1. Demand Forecast\n",
    "\n",
    "# 1. Demand Forecast\n",
    "data = population.copy().iloc[:, 20:]\n",
    "data = data.transpose()\n",
    "\n",
    "# Standardize the data\n",
    "scaler = StandardScaler()\n",
    "data = pd.DataFrame(scaler.fit_transform(data), index=data.index, columns=data.columns)\n",
    "\n",
    "# Split the data into train and test sets\n",
    "train, test = train_test_split(data, test_size=0.2, random_state=0)\n",
    "\n",
    "# List of models to evaluate\n",
    "models = {\n",
    "    \"Multiple Linear Regression\": LinearRegression(),\n",
    "    \"Regression Tree\": DecisionTreeRegressor(\n",
    "        max_depth=10, min_samples_split=2, min_samples_leaf=1\n",
    "    ),\n",
    "    \"Support Vector Machine\": SVR(C=1.0, kernel=\"rbf\", gamma=\"scale\"),\n",
    "    \"Random Forest Regression\": RandomForestRegressor(\n",
    "        n_estimators=100, max_depth=10, min_samples_split=2, min_samples_leaf=1\n",
    "    ),\n",
    "}\n",
    "\n",
    "best_model = None\n",
    "best_score = float(\"-inf\")\n",
    "results = {}\n",
    "\n",
    "# Iterate over models\n",
    "for model_name, model in models.items():\n",
    "    start_time = time.time()\n",
    "    mean_absolute_errors = []\n",
    "    mean_squared_errors = []\n",
    "    r2_scores = []\n",
    "\n",
    "    # For each column in the data\n",
    "    for column in data.columns:\n",
    "        model.fit(train.index.values.reshape(-1, 1), train[column])\n",
    "        predictions = model.predict(test.index.values.reshape(-1, 1))\n",
    "        mean_absolute_errors.append(mean_absolute_error(test[column], predictions))\n",
    "        mean_squared_errors.append(mean_squared_error(test[column], predictions))\n",
    "        r2_scores.append(r2_score(test[column], predictions))\n",
    "\n",
    "    avg_r2_score = np.mean(r2_scores)\n",
    "    results[model_name] = {\n",
    "        \"time\": time.time() - start_time,\n",
    "        \"mean_absolute_error\": np.mean(mean_absolute_errors),\n",
    "        \"mean_squared_error\": np.mean(mean_squared_errors),\n",
    "        \"r2_score\": avg_r2_score,\n",
    "    }\n",
    "\n",
    "    if avg_r2_score > best_score:\n",
    "        best_score = avg_r2_score\n",
    "        best_model = model\n",
    "\n",
    "# Print results\n",
    "for model_name, metrics in results.items():\n",
    "    print(f\"{model_name}: {metrics['time']:.2f} s\")\n",
    "    print(f\"    Mean Absolute Error: {metrics['mean_absolute_error']}\")\n",
    "    print(f\"    Mean Squared Error: {metrics['mean_squared_error']}\")\n",
    "    print(f\"    R2 Score: {metrics['r2_score']}\")\n",
    "\n",
    "print(f\"\\nBest model: {best_model}\")\n"
   ]
  },
  {
   "cell_type": "markdown",
   "metadata": {},
   "source": [
    "## 2. Set facility types\n",
    "\n",
    "We have 3 types of facilities:\n",
    "- Type 1: Small facility.\n",
    "- Type 2: Medium facility.\n",
    "- Type 3: Large facility.\n",
    "\n",
    "for each facility type we have the following information:\n",
    "- Fixed cost.\n",
    "- Variable cost.\n",
    "\n",
    "The proposal is to use a mathematical model to determine the number of facilities of each type to minimize the total cost, in order to satisfy the demand. and be able to train a classifier to predict the type of facility that will be needed for the hole country.\n",
    "\n",
    "### Model\n",
    "\n",
    "#### Sets\n",
    "- $I$: Set of municipalities.\n",
    "- $J$: Types of facilities.\n",
    "\n",
    "#### Parameters\n",
    "- $c_{j}$: Capacity of facility type $j$.\n",
    "- $f_{j}$: Fixed cost of facility type $j$.\n",
    "\n",
    "- $p_{i}$: Population of municipality $i$.\n",
    "- $N$: Food Demand per capita in Tonnes.\n",
    "- $d_{i}$: Demand of municipality $i$ = $p_{i} * N$.\n",
    "- $r_{i}$: department aggregation of population of municipality $i$.\n",
    "- $\\lambda_{i}$: Multiplier of demand of municipality based on its department population.$\n",
    "\n",
    "#### Decision Variables\n",
    "- $x_{ij}$: Number of facilities of type $j$ in municipality $i$.\n",
    "\n",
    "#### Objective Function\n",
    "- Minimize the total cost of the facilities.\n",
    "\n",
    "$$ \\text{Min} \\sum_{i \\in I} \\sum_{j \\in J} f_{j} * x_{ij} $$\n",
    "\n",
    "#### Constraints\n",
    "\n",
    "- Demand constraint: The demand of municipality $i$ must be satisfied.\n",
    "\n",
    "$$ \\sum_{j \\in J} x_{ij} * c_{j} \\geq d_{i} * \\lambda_{i} \\quad \\forall i \\in I $$\n",
    "\n",
    "- (optional) General capacity:\n",
    "\n",
    "$$ \\sum_{i \\in I} \\sum_{j \\in J} x_{ij} * c_{j} \\leq \\sum_{i \\in I} d_{i} * \\lambda_{i} $$\n",
    "\n",
    "- Non-negativity:\n",
    "\n",
    "$$ x_{ij} \\geq 0 \\quad \\forall i \\in I, \\forall j \\in J $$\n",
    "\n",
    "- Integer:\n",
    "\n",
    "$$ x_{ij} \\in \\mathbb{Z} \\quad \\forall i \\in I, \\forall j \\in J $$\n",
    "\n"
   ]
  },
  {
   "cell_type": "code",
   "execution_count": 34,
   "metadata": {},
   "outputs": [
    {
     "name": "stdout",
     "output_type": "stream",
     "text": [
      "Status: Optimal\n",
      "Objective function: 811097283420.0\n"
     ]
    },
    {
     "data": {
      "text/plain": [
       "11"
      ]
     },
     "metadata": {},
     "output_type": "display_data"
    },
    {
     "data": {
      "text/plain": [
       "array([(1.0, 0.0, 0.0), (0.0, 0.0, 1.0), (0.0, 3.0, 0.0),\n",
       "       (0.0, 31.0, 0.0), (3.0, 0.0, 0.0), (0.0, 1.0, 0.0),\n",
       "       (0.0, 6.0, 0.0), (0.0, 9.0, 0.0), (0.0, 2.0, 0.0), (0.0, 5.0, 0.0),\n",
       "       (0.0, 10.0, 0.0)], dtype=object)"
      ]
     },
     "metadata": {},
     "output_type": "display_data"
    },
    {
     "data": {
      "text/html": [
       "<div>\n",
       "<style scoped>\n",
       "    .dataframe tbody tr th:only-of-type {\n",
       "        vertical-align: middle;\n",
       "    }\n",
       "\n",
       "    .dataframe tbody tr th {\n",
       "        vertical-align: top;\n",
       "    }\n",
       "\n",
       "    .dataframe thead th {\n",
       "        text-align: right;\n",
       "    }\n",
       "</style>\n",
       "<table border=\"1\" class=\"dataframe\">\n",
       "  <thead>\n",
       "    <tr style=\"text-align: right;\">\n",
       "      <th></th>\n",
       "      <th>Facility 0</th>\n",
       "      <th>Facility 1</th>\n",
       "      <th>Facility 2</th>\n",
       "      <th>demand</th>\n",
       "      <th>satisfied</th>\n",
       "      <th>cost</th>\n",
       "      <th>comb</th>\n",
       "    </tr>\n",
       "    <tr>\n",
       "      <th>dpmp</th>\n",
       "      <th></th>\n",
       "      <th></th>\n",
       "      <th></th>\n",
       "      <th></th>\n",
       "      <th></th>\n",
       "      <th></th>\n",
       "      <th></th>\n",
       "    </tr>\n",
       "  </thead>\n",
       "  <tbody>\n",
       "    <tr>\n",
       "      <th>25781</th>\n",
       "      <td>1.0</td>\n",
       "      <td>0.0</td>\n",
       "      <td>0.0</td>\n",
       "      <td>43.932040</td>\n",
       "      <td>1074.0</td>\n",
       "      <td>731159925.0</td>\n",
       "      <td>(1.0, 0.0, 0.0)</td>\n",
       "    </tr>\n",
       "    <tr>\n",
       "      <th>47318</th>\n",
       "      <td>1.0</td>\n",
       "      <td>0.0</td>\n",
       "      <td>0.0</td>\n",
       "      <td>186.166849</td>\n",
       "      <td>1074.0</td>\n",
       "      <td>731159925.0</td>\n",
       "      <td>(1.0, 0.0, 0.0)</td>\n",
       "    </tr>\n",
       "    <tr>\n",
       "      <th>27073</th>\n",
       "      <td>1.0</td>\n",
       "      <td>0.0</td>\n",
       "      <td>0.0</td>\n",
       "      <td>72.635369</td>\n",
       "      <td>1074.0</td>\n",
       "      <td>731159925.0</td>\n",
       "      <td>(1.0, 0.0, 0.0)</td>\n",
       "    </tr>\n",
       "    <tr>\n",
       "      <th>25258</th>\n",
       "      <td>1.0</td>\n",
       "      <td>0.0</td>\n",
       "      <td>0.0</td>\n",
       "      <td>33.793877</td>\n",
       "      <td>1074.0</td>\n",
       "      <td>731159925.0</td>\n",
       "      <td>(1.0, 0.0, 0.0)</td>\n",
       "    </tr>\n",
       "    <tr>\n",
       "      <th>19142</th>\n",
       "      <td>1.0</td>\n",
       "      <td>0.0</td>\n",
       "      <td>0.0</td>\n",
       "      <td>193.514411</td>\n",
       "      <td>1074.0</td>\n",
       "      <td>731159925.0</td>\n",
       "      <td>(1.0, 0.0, 0.0)</td>\n",
       "    </tr>\n",
       "    <tr>\n",
       "      <th>...</th>\n",
       "      <td>...</td>\n",
       "      <td>...</td>\n",
       "      <td>...</td>\n",
       "      <td>...</td>\n",
       "      <td>...</td>\n",
       "      <td>...</td>\n",
       "      <td>...</td>\n",
       "    </tr>\n",
       "    <tr>\n",
       "      <th>50590</th>\n",
       "      <td>1.0</td>\n",
       "      <td>0.0</td>\n",
       "      <td>0.0</td>\n",
       "      <td>84.834284</td>\n",
       "      <td>1074.0</td>\n",
       "      <td>731159925.0</td>\n",
       "      <td>(1.0, 0.0, 0.0)</td>\n",
       "    </tr>\n",
       "    <tr>\n",
       "      <th>47960</th>\n",
       "      <td>1.0</td>\n",
       "      <td>0.0</td>\n",
       "      <td>0.0</td>\n",
       "      <td>67.673618</td>\n",
       "      <td>1074.0</td>\n",
       "      <td>731159925.0</td>\n",
       "      <td>(1.0, 0.0, 0.0)</td>\n",
       "    </tr>\n",
       "    <tr>\n",
       "      <th>5147</th>\n",
       "      <td>1.0</td>\n",
       "      <td>0.0</td>\n",
       "      <td>0.0</td>\n",
       "      <td>320.054387</td>\n",
       "      <td>1074.0</td>\n",
       "      <td>731159925.0</td>\n",
       "      <td>(1.0, 0.0, 0.0)</td>\n",
       "    </tr>\n",
       "    <tr>\n",
       "      <th>17486</th>\n",
       "      <td>1.0</td>\n",
       "      <td>0.0</td>\n",
       "      <td>0.0</td>\n",
       "      <td>132.746764</td>\n",
       "      <td>1074.0</td>\n",
       "      <td>731159925.0</td>\n",
       "      <td>(1.0, 0.0, 0.0)</td>\n",
       "    </tr>\n",
       "    <tr>\n",
       "      <th>85250</th>\n",
       "      <td>1.0</td>\n",
       "      <td>0.0</td>\n",
       "      <td>0.0</td>\n",
       "      <td>251.405591</td>\n",
       "      <td>1074.0</td>\n",
       "      <td>731159925.0</td>\n",
       "      <td>(1.0, 0.0, 0.0)</td>\n",
       "    </tr>\n",
       "  </tbody>\n",
       "</table>\n",
       "<p>949 rows × 7 columns</p>\n",
       "</div>"
      ],
      "text/plain": [
       "       Facility 0  Facility 1  Facility 2      demand  satisfied         cost  \\\n",
       "dpmp                                                                            \n",
       "25781         1.0         0.0         0.0   43.932040     1074.0  731159925.0   \n",
       "47318         1.0         0.0         0.0  186.166849     1074.0  731159925.0   \n",
       "27073         1.0         0.0         0.0   72.635369     1074.0  731159925.0   \n",
       "25258         1.0         0.0         0.0   33.793877     1074.0  731159925.0   \n",
       "19142         1.0         0.0         0.0  193.514411     1074.0  731159925.0   \n",
       "...           ...         ...         ...         ...        ...          ...   \n",
       "50590         1.0         0.0         0.0   84.834284     1074.0  731159925.0   \n",
       "47960         1.0         0.0         0.0   67.673618     1074.0  731159925.0   \n",
       "5147          1.0         0.0         0.0  320.054387     1074.0  731159925.0   \n",
       "17486         1.0         0.0         0.0  132.746764     1074.0  731159925.0   \n",
       "85250         1.0         0.0         0.0  251.405591     1074.0  731159925.0   \n",
       "\n",
       "                  comb  \n",
       "dpmp                    \n",
       "25781  (1.0, 0.0, 0.0)  \n",
       "47318  (1.0, 0.0, 0.0)  \n",
       "27073  (1.0, 0.0, 0.0)  \n",
       "25258  (1.0, 0.0, 0.0)  \n",
       "19142  (1.0, 0.0, 0.0)  \n",
       "...                ...  \n",
       "50590  (1.0, 0.0, 0.0)  \n",
       "47960  (1.0, 0.0, 0.0)  \n",
       "5147   (1.0, 0.0, 0.0)  \n",
       "17486  (1.0, 0.0, 0.0)  \n",
       "85250  (1.0, 0.0, 0.0)  \n",
       "\n",
       "[949 rows x 7 columns]"
      ]
     },
     "metadata": {},
     "output_type": "display_data"
    }
   ],
   "source": [
    "# Optimization of the model\n",
    "p = population[\"2024\"].sample(frac=0.85, random_state=5)\n",
    "\n",
    "# ====Parameters==== #\n",
    "c_j = warehouses[\"capacity_ton\"].values.astype(float)\n",
    "f_j = warehouses[\"cost\"].values.astype(float)\n",
    "\n",
    "\n",
    "p_i = p.values.astype(int)\n",
    "n = food_per_person_per_day * 7\n",
    "d_i = p_i * n\n",
    "# Lambda = 2 for the top 32 municipalities, 1 for the rest\n",
    "lambda_i = np.ones(len(p_i)) * 1.1\n",
    "lambda_i[np.argsort(p_i)[-32:]] = 1.5\n",
    "# ====Parameters==== #\n",
    "\n",
    "\n",
    "# Decision variables: $x_{ij}$\n",
    "I = range(len(p_i))\n",
    "J = range(len(c_j))\n",
    "model = pulp.LpProblem(\"UFLP\", pulp.LpMinimize)\n",
    "x = pulp.LpVariable.dicts(\n",
    "    \"x\", ((i, j) for i in I for j in J), lowBound=0, cat=\"Integer\"\n",
    ")\n",
    "y = pulp.LpVariable.dicts(\"y\", ((i, j) for i in I for j in J), cat=\"Binary\")\n",
    "# Objective function\n",
    "model += (\n",
    "    pulp.lpSum(f_j[j] * x[(i, j)] for i in I for j in J),\n",
    "    \"Total cost of the facilities\",\n",
    ")\n",
    "# Constraints\n",
    "for i in I:\n",
    "    model += (\n",
    "        pulp.lpSum(c_j[j] * x[(i, j)] for j in J) >= d_i[i] * lambda_i[i],\n",
    "        f\"Population demand {i}\",\n",
    "    )\n",
    "    model += (\n",
    "        pulp.lpSum(x[(i, j)] for j in J) >= 1,\n",
    "        f\"Facility assignment {i}\",\n",
    "    )\n",
    "    model += (\n",
    "        pulp.lpSum(y[(i, j)] for j in J) == 1,\n",
    "        f\"Faacility assignment __ {i}\",\n",
    "    )\n",
    "    for j in J:\n",
    "        model += (\n",
    "            x[(i, j)] <= 100 * y[(i, j)],\n",
    "            f\"Fsacility assignment _ {i} _ {j}\",\n",
    "        )\n",
    "\n",
    "model += pulp.lpSum(x[(i, j)] * c_j[j] for i in I for j in J) >= pulp.lpSum(\n",
    "    d_i[i] * lambda_i[i] for i in I\n",
    ")\n",
    "\n",
    "\n",
    "# Solve the model\n",
    "model.solve()\n",
    "# Results\n",
    "print(f\"Status: {pulp.LpStatus[model.status]}\")\n",
    "print(f\"Objective function: {pulp.value(model.objective)}\")\n",
    "df = pd.DataFrame(\n",
    "    [[pulp.value(x[(i, j)]) for j in J] for i in I],\n",
    "    columns=[f\"Facility {j}\" for j in J],\n",
    "    index=p.index,\n",
    ")\n",
    "df[\"demand\"] = d_i\n",
    "df[\"satisfied\"] = sum(df[f\"Facility {j}\"] * c_j[j] for j in J)\n",
    "df[\"cost\"] = sum(df[f\"Facility {j}\"] * f_j[j] for j in J)\n",
    "df[\"comb\"] = df.apply(lambda x: tuple(x[: len(J)]), axis=1)\n",
    "\n",
    "display(df.comb.unique().size, df.comb.unique())\n",
    "display(df)\n"
   ]
  },
  {
   "cell_type": "markdown",
   "metadata": {},
   "source": [
    "## 3. Set facility capacity\n",
    "\n",
    "We have m types of facilities with different capacities, the proposal is to use the data generated in the previous step to determine the capacity of each facility type in order to satisfy the demand.\n",
    "Machine Learning algorithms will be used to Classify the type of facility that will be needed for each municipality.\n",
    "- Decision Tree.\n",
    "- Linear Discriminant Analysis.\n",
    "- Logistic Regression.\n",
    "- Support Vector Machine.\n",
    "\n",
    "and deep learning to create a new model. The best model will be used to determine the capacity of each facility type.\n",
    "\n",
    "The objective is to predict 'comb' with the information of 'demand', 'lat', 'lon', and 'dp'.\n"
   ]
  },
  {
   "cell_type": "code",
   "execution_count": 35,
   "metadata": {},
   "outputs": [
    {
     "name": "stdout",
     "output_type": "stream",
     "text": [
      "Decision Tree: 0.00 s\n",
      "    Accuracy: 1.0\n",
      "    Confusion Matrix: \n",
      " [[  2   0   0   0   0]\n",
      " [  0   1   0   0   0]\n",
      " [  0   0   2   0   0]\n",
      " [  0   0   0 184   0]\n",
      " [  0   0   0   0   1]]\n",
      "    Classification Report: \n",
      "               precision    recall  f1-score   support\n",
      "\n",
      "           1       1.00      1.00      1.00         2\n",
      "           3       1.00      1.00      1.00         1\n",
      "           4       1.00      1.00      1.00         2\n",
      "           9       1.00      1.00      1.00       184\n",
      "          10       1.00      1.00      1.00         1\n",
      "\n",
      "    accuracy                           1.00       190\n",
      "   macro avg       1.00      1.00      1.00       190\n",
      "weighted avg       1.00      1.00      1.00       190\n",
      "\n",
      "Linear Discriminant Analysis: 0.00 s\n",
      "    Accuracy: 0.9842105263157894\n",
      "    Confusion Matrix: \n",
      " [[  2   0   0   0   0]\n",
      " [  0   1   0   0   0]\n",
      " [  0   0   2   0   0]\n",
      " [  3   0   0 181   0]\n",
      " [  0   0   0   0   1]]\n",
      "    Classification Report: \n",
      "               precision    recall  f1-score   support\n",
      "\n",
      "           1       0.40      1.00      0.57         2\n",
      "           3       1.00      1.00      1.00         1\n",
      "           4       1.00      1.00      1.00         2\n",
      "           9       1.00      0.98      0.99       184\n",
      "          10       1.00      1.00      1.00         1\n",
      "\n",
      "    accuracy                           0.98       190\n",
      "   macro avg       0.88      1.00      0.91       190\n",
      "weighted avg       0.99      0.98      0.99       190\n",
      "\n",
      "Logistic Regression: 0.02 s\n",
      "    Accuracy: 0.968421052631579\n",
      "    Confusion Matrix: \n",
      " [[  0   0   0   2   0]\n",
      " [  1   0   0   0   0]\n",
      " [  2   0   0   0   0]\n",
      " [  0   0   0 184   0]\n",
      " [  0   1   0   0   0]]\n",
      "    Classification Report: \n",
      "               precision    recall  f1-score   support\n",
      "\n",
      "           1       0.00      0.00      0.00         2\n",
      "           3       0.00      0.00      0.00         1\n",
      "           4       1.00      0.00      0.00         2\n",
      "           9       0.99      1.00      0.99       184\n",
      "          10       1.00      0.00      0.00         1\n",
      "\n",
      "    accuracy                           0.97       190\n",
      "   macro avg       0.60      0.20      0.20       190\n",
      "weighted avg       0.97      0.97      0.96       190\n",
      "\n",
      "Support Vector Machine: 0.01 s\n",
      "    Accuracy: 0.968421052631579\n",
      "    Confusion Matrix: \n",
      " [[  0   0   0   2   0]\n",
      " [  0   0   0   1   0]\n",
      " [  2   0   0   0   0]\n",
      " [  0   0   0 184   0]\n",
      " [  0   0   0   1   0]]\n",
      "    Classification Report: \n",
      "               precision    recall  f1-score   support\n",
      "\n",
      "           1       0.00      0.00      0.00         2\n",
      "           3       1.00      0.00      0.00         1\n",
      "           4       1.00      0.00      0.00         2\n",
      "           9       0.98      1.00      0.99       184\n",
      "          10       1.00      0.00      0.00         1\n",
      "\n",
      "    accuracy                           0.97       190\n",
      "   macro avg       0.80      0.20      0.20       190\n",
      "weighted avg       0.97      0.97      0.96       190\n",
      "\n",
      "Neural Network: 1.52 s\n",
      "    Accuracy: 0.9736842105263158\n",
      "    Confusion Matrix: \n",
      " [[  0   0   0   0   0   0]\n",
      " [  0   1   0   0   1   0]\n",
      " [  0   0   1   0   0   0]\n",
      " [  2   0   0   0   0   0]\n",
      " [  0   1   0   0 183   0]\n",
      " [  0   0   1   0   0   0]]\n",
      "    Classification Report: \n",
      "               precision    recall  f1-score   support\n",
      "\n",
      "           0       0.00      1.00      0.00         0\n",
      "           1       0.50      0.50      0.50         2\n",
      "           3       0.50      1.00      0.67         1\n",
      "           4       1.00      0.00      0.00         2\n",
      "           9       0.99      0.99      0.99       184\n",
      "          10       1.00      0.00      0.00         1\n",
      "\n",
      "    accuracy                           0.97       190\n",
      "   macro avg       0.67      0.58      0.36       190\n",
      "weighted avg       0.99      0.97      0.97       190\n",
      "\n",
      "\n",
      "Best model: DecisionTreeClassifier()\n"
     ]
    }
   ],
   "source": [
    "data = pd.merge(df.copy(), population.copy(), left_index=True, right_index=True)\n",
    "# drop rows with nan in the 'comb' column\n",
    "data = data.dropna(subset=[\"comb\"])\n",
    "# train with a random sample of 80% of the data\n",
    "# The objective is to predict 'comb' with the information of 'demand', 'lat', 'lon', and 'dp'.\n",
    "# Convert 'comb' to string and encode it\n",
    "data[\"comb\"] = data[\"comb\"].apply(lambda x: str(x))\n",
    "data[\"comb\"] = LabelEncoder().fit_transform(data[\"comb\"])\n",
    "\n",
    "# Standardize the selected features\n",
    "data[[\"demand\", \"lat\", \"lon\", \"dp\"]] = StandardScaler().fit_transform(\n",
    "    data[[\"demand\", \"lat\", \"lon\", \"dp\"]]\n",
    ")\n",
    "\n",
    "# Split the data into train and test sets\n",
    "train_x, test_x, train_y, test_y = train_test_split(\n",
    "    data[[\"demand\", \"lat\", \"lon\", \"dp\"]], data[\"comb\"], test_size=0.2, random_state=0\n",
    ")\n",
    "\n",
    "# Define and evaluate models\n",
    "models = {\n",
    "    \"Decision Tree\": DecisionTreeClassifier(),\n",
    "    \"Linear Discriminant Analysis\": LinearDiscriminantAnalysis(),\n",
    "    \"Logistic Regression\": LogisticRegression(max_iter=1000),\n",
    "    \"Support Vector Machine\": SVC(),\n",
    "    \"Neural Network\": MLPClassifier(max_iter=1000, tol=1e-4),\n",
    "}\n",
    "\n",
    "best_model = None\n",
    "best_accuracy = 0\n",
    "results = {}\n",
    "\n",
    "\n",
    "def evaluate_model(model_name, model):\n",
    "    global best_model, best_accuracy\n",
    "    start_time = time.time()\n",
    "    model.fit(train_x, train_y)\n",
    "    predictions = model.predict(test_x)\n",
    "    accuracy = accuracy_score(test_y, predictions)\n",
    "    elapsed_time = time.time() - start_time\n",
    "\n",
    "    results[model_name] = {\n",
    "        \"accuracy\": accuracy,\n",
    "        \"confusion_matrix\": confusion_matrix(test_y, predictions),\n",
    "        \"classification_report\": classification_report(\n",
    "            test_y, predictions, zero_division=1\n",
    "        ),\n",
    "        \"time\": elapsed_time,\n",
    "    }\n",
    "\n",
    "    if accuracy > best_accuracy:\n",
    "        best_accuracy = accuracy\n",
    "        best_model = model\n",
    "\n",
    "\n",
    "for model_name, model in models.items():\n",
    "    evaluate_model(model_name, model)\n",
    "\n",
    "# Print results\n",
    "for model_name, metrics in results.items():\n",
    "    print(f\"{model_name}: {metrics['time']:.2f} s\")\n",
    "    print(f\"    Accuracy: {metrics['accuracy']}\")\n",
    "    print(f\"    Confusion Matrix: \\n {metrics['confusion_matrix']}\")\n",
    "    print(f\"    Classification Report: \\n {metrics['classification_report']}\")\n",
    "\n",
    "print(f\"\\nBest model: {best_model}\")\n"
   ]
  },
  {
   "cell_type": "markdown",
   "metadata": {},
   "source": [
    "## 4. Propose a k parameter for clustering using Linear Programming\n",
    "\n",
    "The proposal is to use the data generated in the previous step to determine the number of clusters that will be needed to satisfy the demand. The objective is to minimize the total cost of the facilities.\n"
   ]
  },
  {
   "cell_type": "code",
   "execution_count": 36,
   "metadata": {},
   "outputs": [
    {
     "data": {
      "application/vnd.plotly.v1+json": {
       "config": {
        "plotlyServerURL": "https://plot.ly"
       },
       "data": [
        {
         "mode": "lines+markers",
         "name": "Inertia",
         "type": "scatter",
         "x": [
          2,
          3,
          4,
          5,
          6,
          7,
          8,
          9,
          10,
          11,
          12,
          13,
          14,
          15,
          16,
          17,
          18,
          19
         ],
         "y": [
          5821.033951132773,
          3593.5719534802615,
          2766.0156795732787,
          1929.1758669972285,
          1569.7066600501944,
          1338.6244108121948,
          1217.6004494995923,
          1145.1972790884474,
          1013.7514445860922,
          955.9649662426225,
          863.4361662657232,
          790.7997728104897,
          676.8945667649474,
          642.4479684000637,
          589.7222341555306,
          574.0465486439248,
          556.5187639574809,
          533.4944729480364
         ],
         "yaxis": "y"
        },
        {
         "mode": "lines+markers",
         "name": "Silhouette Score",
         "type": "scatter",
         "x": [
          2,
          3,
          4,
          5,
          6,
          7,
          8,
          9,
          10,
          11,
          12,
          13,
          14,
          15,
          16,
          17,
          18,
          19
         ],
         "y": [
          0.3758170415524292,
          0.4505639821963598,
          0.46749345703456624,
          0.44682747543577744,
          0.4368903038722778,
          0.4201127232811126,
          0.40370874629293535,
          0.3931435220738836,
          0.3830963188471024,
          0.3727942138111521,
          0.3715178573102884,
          0.37472277938932547,
          0.40186075574603886,
          0.3760426720407342,
          0.3918423356826182,
          0.3621605437267394,
          0.35401385015220105,
          0.36173817193065205
         ],
         "yaxis": "y2"
        },
        {
         "mode": "lines+markers",
         "name": "Davies-Bouldin Score",
         "type": "scatter",
         "x": [
          2,
          3,
          4,
          5,
          6,
          7,
          8,
          9,
          10,
          11,
          12,
          13,
          14,
          15,
          16,
          17,
          18,
          19
         ],
         "y": [
          0.9860028651447288,
          0.7638485669918672,
          0.7050099376782488,
          0.7345731663532081,
          0.7171013181782905,
          0.712364145985254,
          0.7597816609036663,
          0.7751863787228387,
          0.8005457612598862,
          0.8093926232279004,
          0.822948616330315,
          0.79992803031477,
          0.7672164900508316,
          0.8035659690375151,
          0.7951936707758386,
          0.8179408197804089,
          0.8493718999060246,
          0.8244650571989449
         ],
         "yaxis": "y2"
        }
       ],
       "layout": {
        "legend": {
         "title": {
          "text": "Metric"
         }
        },
        "margin": {
         "r": 100,
         "t": 100
        },
        "template": {
         "data": {
          "bar": [
           {
            "error_x": {
             "color": "#2a3f5f"
            },
            "error_y": {
             "color": "#2a3f5f"
            },
            "marker": {
             "line": {
              "color": "white",
              "width": 0.5
             },
             "pattern": {
              "fillmode": "overlay",
              "size": 10,
              "solidity": 0.2
             }
            },
            "type": "bar"
           }
          ],
          "barpolar": [
           {
            "marker": {
             "line": {
              "color": "white",
              "width": 0.5
             },
             "pattern": {
              "fillmode": "overlay",
              "size": 10,
              "solidity": 0.2
             }
            },
            "type": "barpolar"
           }
          ],
          "carpet": [
           {
            "aaxis": {
             "endlinecolor": "#2a3f5f",
             "gridcolor": "#C8D4E3",
             "linecolor": "#C8D4E3",
             "minorgridcolor": "#C8D4E3",
             "startlinecolor": "#2a3f5f"
            },
            "baxis": {
             "endlinecolor": "#2a3f5f",
             "gridcolor": "#C8D4E3",
             "linecolor": "#C8D4E3",
             "minorgridcolor": "#C8D4E3",
             "startlinecolor": "#2a3f5f"
            },
            "type": "carpet"
           }
          ],
          "choropleth": [
           {
            "colorbar": {
             "outlinewidth": 0,
             "ticks": ""
            },
            "type": "choropleth"
           }
          ],
          "contour": [
           {
            "colorbar": {
             "outlinewidth": 0,
             "ticks": ""
            },
            "colorscale": [
             [
              0,
              "#0d0887"
             ],
             [
              0.1111111111111111,
              "#46039f"
             ],
             [
              0.2222222222222222,
              "#7201a8"
             ],
             [
              0.3333333333333333,
              "#9c179e"
             ],
             [
              0.4444444444444444,
              "#bd3786"
             ],
             [
              0.5555555555555556,
              "#d8576b"
             ],
             [
              0.6666666666666666,
              "#ed7953"
             ],
             [
              0.7777777777777778,
              "#fb9f3a"
             ],
             [
              0.8888888888888888,
              "#fdca26"
             ],
             [
              1,
              "#f0f921"
             ]
            ],
            "type": "contour"
           }
          ],
          "contourcarpet": [
           {
            "colorbar": {
             "outlinewidth": 0,
             "ticks": ""
            },
            "type": "contourcarpet"
           }
          ],
          "heatmap": [
           {
            "colorbar": {
             "outlinewidth": 0,
             "ticks": ""
            },
            "colorscale": [
             [
              0,
              "#0d0887"
             ],
             [
              0.1111111111111111,
              "#46039f"
             ],
             [
              0.2222222222222222,
              "#7201a8"
             ],
             [
              0.3333333333333333,
              "#9c179e"
             ],
             [
              0.4444444444444444,
              "#bd3786"
             ],
             [
              0.5555555555555556,
              "#d8576b"
             ],
             [
              0.6666666666666666,
              "#ed7953"
             ],
             [
              0.7777777777777778,
              "#fb9f3a"
             ],
             [
              0.8888888888888888,
              "#fdca26"
             ],
             [
              1,
              "#f0f921"
             ]
            ],
            "type": "heatmap"
           }
          ],
          "heatmapgl": [
           {
            "colorbar": {
             "outlinewidth": 0,
             "ticks": ""
            },
            "colorscale": [
             [
              0,
              "#0d0887"
             ],
             [
              0.1111111111111111,
              "#46039f"
             ],
             [
              0.2222222222222222,
              "#7201a8"
             ],
             [
              0.3333333333333333,
              "#9c179e"
             ],
             [
              0.4444444444444444,
              "#bd3786"
             ],
             [
              0.5555555555555556,
              "#d8576b"
             ],
             [
              0.6666666666666666,
              "#ed7953"
             ],
             [
              0.7777777777777778,
              "#fb9f3a"
             ],
             [
              0.8888888888888888,
              "#fdca26"
             ],
             [
              1,
              "#f0f921"
             ]
            ],
            "type": "heatmapgl"
           }
          ],
          "histogram": [
           {
            "marker": {
             "pattern": {
              "fillmode": "overlay",
              "size": 10,
              "solidity": 0.2
             }
            },
            "type": "histogram"
           }
          ],
          "histogram2d": [
           {
            "colorbar": {
             "outlinewidth": 0,
             "ticks": ""
            },
            "colorscale": [
             [
              0,
              "#0d0887"
             ],
             [
              0.1111111111111111,
              "#46039f"
             ],
             [
              0.2222222222222222,
              "#7201a8"
             ],
             [
              0.3333333333333333,
              "#9c179e"
             ],
             [
              0.4444444444444444,
              "#bd3786"
             ],
             [
              0.5555555555555556,
              "#d8576b"
             ],
             [
              0.6666666666666666,
              "#ed7953"
             ],
             [
              0.7777777777777778,
              "#fb9f3a"
             ],
             [
              0.8888888888888888,
              "#fdca26"
             ],
             [
              1,
              "#f0f921"
             ]
            ],
            "type": "histogram2d"
           }
          ],
          "histogram2dcontour": [
           {
            "colorbar": {
             "outlinewidth": 0,
             "ticks": ""
            },
            "colorscale": [
             [
              0,
              "#0d0887"
             ],
             [
              0.1111111111111111,
              "#46039f"
             ],
             [
              0.2222222222222222,
              "#7201a8"
             ],
             [
              0.3333333333333333,
              "#9c179e"
             ],
             [
              0.4444444444444444,
              "#bd3786"
             ],
             [
              0.5555555555555556,
              "#d8576b"
             ],
             [
              0.6666666666666666,
              "#ed7953"
             ],
             [
              0.7777777777777778,
              "#fb9f3a"
             ],
             [
              0.8888888888888888,
              "#fdca26"
             ],
             [
              1,
              "#f0f921"
             ]
            ],
            "type": "histogram2dcontour"
           }
          ],
          "mesh3d": [
           {
            "colorbar": {
             "outlinewidth": 0,
             "ticks": ""
            },
            "type": "mesh3d"
           }
          ],
          "parcoords": [
           {
            "line": {
             "colorbar": {
              "outlinewidth": 0,
              "ticks": ""
             }
            },
            "type": "parcoords"
           }
          ],
          "pie": [
           {
            "automargin": true,
            "type": "pie"
           }
          ],
          "scatter": [
           {
            "fillpattern": {
             "fillmode": "overlay",
             "size": 10,
             "solidity": 0.2
            },
            "type": "scatter"
           }
          ],
          "scatter3d": [
           {
            "line": {
             "colorbar": {
              "outlinewidth": 0,
              "ticks": ""
             }
            },
            "marker": {
             "colorbar": {
              "outlinewidth": 0,
              "ticks": ""
             }
            },
            "type": "scatter3d"
           }
          ],
          "scattercarpet": [
           {
            "marker": {
             "colorbar": {
              "outlinewidth": 0,
              "ticks": ""
             }
            },
            "type": "scattercarpet"
           }
          ],
          "scattergeo": [
           {
            "marker": {
             "colorbar": {
              "outlinewidth": 0,
              "ticks": ""
             }
            },
            "type": "scattergeo"
           }
          ],
          "scattergl": [
           {
            "marker": {
             "colorbar": {
              "outlinewidth": 0,
              "ticks": ""
             }
            },
            "type": "scattergl"
           }
          ],
          "scattermapbox": [
           {
            "marker": {
             "colorbar": {
              "outlinewidth": 0,
              "ticks": ""
             }
            },
            "type": "scattermapbox"
           }
          ],
          "scatterpolar": [
           {
            "marker": {
             "colorbar": {
              "outlinewidth": 0,
              "ticks": ""
             }
            },
            "type": "scatterpolar"
           }
          ],
          "scatterpolargl": [
           {
            "marker": {
             "colorbar": {
              "outlinewidth": 0,
              "ticks": ""
             }
            },
            "type": "scatterpolargl"
           }
          ],
          "scatterternary": [
           {
            "marker": {
             "colorbar": {
              "outlinewidth": 0,
              "ticks": ""
             }
            },
            "type": "scatterternary"
           }
          ],
          "surface": [
           {
            "colorbar": {
             "outlinewidth": 0,
             "ticks": ""
            },
            "colorscale": [
             [
              0,
              "#0d0887"
             ],
             [
              0.1111111111111111,
              "#46039f"
             ],
             [
              0.2222222222222222,
              "#7201a8"
             ],
             [
              0.3333333333333333,
              "#9c179e"
             ],
             [
              0.4444444444444444,
              "#bd3786"
             ],
             [
              0.5555555555555556,
              "#d8576b"
             ],
             [
              0.6666666666666666,
              "#ed7953"
             ],
             [
              0.7777777777777778,
              "#fb9f3a"
             ],
             [
              0.8888888888888888,
              "#fdca26"
             ],
             [
              1,
              "#f0f921"
             ]
            ],
            "type": "surface"
           }
          ],
          "table": [
           {
            "cells": {
             "fill": {
              "color": "#EBF0F8"
             },
             "line": {
              "color": "white"
             }
            },
            "header": {
             "fill": {
              "color": "#C8D4E3"
             },
             "line": {
              "color": "white"
             }
            },
            "type": "table"
           }
          ]
         },
         "layout": {
          "annotationdefaults": {
           "arrowcolor": "#2a3f5f",
           "arrowhead": 0,
           "arrowwidth": 1
          },
          "autotypenumbers": "strict",
          "coloraxis": {
           "colorbar": {
            "outlinewidth": 0,
            "ticks": ""
           }
          },
          "colorscale": {
           "diverging": [
            [
             0,
             "#8e0152"
            ],
            [
             0.1,
             "#c51b7d"
            ],
            [
             0.2,
             "#de77ae"
            ],
            [
             0.3,
             "#f1b6da"
            ],
            [
             0.4,
             "#fde0ef"
            ],
            [
             0.5,
             "#f7f7f7"
            ],
            [
             0.6,
             "#e6f5d0"
            ],
            [
             0.7,
             "#b8e186"
            ],
            [
             0.8,
             "#7fbc41"
            ],
            [
             0.9,
             "#4d9221"
            ],
            [
             1,
             "#276419"
            ]
           ],
           "sequential": [
            [
             0,
             "#0d0887"
            ],
            [
             0.1111111111111111,
             "#46039f"
            ],
            [
             0.2222222222222222,
             "#7201a8"
            ],
            [
             0.3333333333333333,
             "#9c179e"
            ],
            [
             0.4444444444444444,
             "#bd3786"
            ],
            [
             0.5555555555555556,
             "#d8576b"
            ],
            [
             0.6666666666666666,
             "#ed7953"
            ],
            [
             0.7777777777777778,
             "#fb9f3a"
            ],
            [
             0.8888888888888888,
             "#fdca26"
            ],
            [
             1,
             "#f0f921"
            ]
           ],
           "sequentialminus": [
            [
             0,
             "#0d0887"
            ],
            [
             0.1111111111111111,
             "#46039f"
            ],
            [
             0.2222222222222222,
             "#7201a8"
            ],
            [
             0.3333333333333333,
             "#9c179e"
            ],
            [
             0.4444444444444444,
             "#bd3786"
            ],
            [
             0.5555555555555556,
             "#d8576b"
            ],
            [
             0.6666666666666666,
             "#ed7953"
            ],
            [
             0.7777777777777778,
             "#fb9f3a"
            ],
            [
             0.8888888888888888,
             "#fdca26"
            ],
            [
             1,
             "#f0f921"
            ]
           ]
          },
          "colorway": [
           "#636efa",
           "#EF553B",
           "#00cc96",
           "#ab63fa",
           "#FFA15A",
           "#19d3f3",
           "#FF6692",
           "#B6E880",
           "#FF97FF",
           "#FECB52"
          ],
          "font": {
           "color": "#2a3f5f"
          },
          "geo": {
           "bgcolor": "white",
           "lakecolor": "white",
           "landcolor": "white",
           "showlakes": true,
           "showland": true,
           "subunitcolor": "#C8D4E3"
          },
          "hoverlabel": {
           "align": "left"
          },
          "hovermode": "closest",
          "mapbox": {
           "style": "light"
          },
          "paper_bgcolor": "white",
          "plot_bgcolor": "white",
          "polar": {
           "angularaxis": {
            "gridcolor": "#EBF0F8",
            "linecolor": "#EBF0F8",
            "ticks": ""
           },
           "bgcolor": "white",
           "radialaxis": {
            "gridcolor": "#EBF0F8",
            "linecolor": "#EBF0F8",
            "ticks": ""
           }
          },
          "scene": {
           "xaxis": {
            "backgroundcolor": "white",
            "gridcolor": "#DFE8F3",
            "gridwidth": 2,
            "linecolor": "#EBF0F8",
            "showbackground": true,
            "ticks": "",
            "zerolinecolor": "#EBF0F8"
           },
           "yaxis": {
            "backgroundcolor": "white",
            "gridcolor": "#DFE8F3",
            "gridwidth": 2,
            "linecolor": "#EBF0F8",
            "showbackground": true,
            "ticks": "",
            "zerolinecolor": "#EBF0F8"
           },
           "zaxis": {
            "backgroundcolor": "white",
            "gridcolor": "#DFE8F3",
            "gridwidth": 2,
            "linecolor": "#EBF0F8",
            "showbackground": true,
            "ticks": "",
            "zerolinecolor": "#EBF0F8"
           }
          },
          "shapedefaults": {
           "line": {
            "color": "#2a3f5f"
           }
          },
          "ternary": {
           "aaxis": {
            "gridcolor": "#DFE8F3",
            "linecolor": "#A2B1C6",
            "ticks": ""
           },
           "baxis": {
            "gridcolor": "#DFE8F3",
            "linecolor": "#A2B1C6",
            "ticks": ""
           },
           "bgcolor": "white",
           "caxis": {
            "gridcolor": "#DFE8F3",
            "linecolor": "#A2B1C6",
            "ticks": ""
           }
          },
          "title": {
           "x": 0.05
          },
          "xaxis": {
           "automargin": true,
           "gridcolor": "#EBF0F8",
           "linecolor": "#EBF0F8",
           "ticks": "",
           "title": {
            "standoff": 15
           },
           "zerolinecolor": "#EBF0F8",
           "zerolinewidth": 2
          },
          "yaxis": {
           "automargin": true,
           "gridcolor": "#EBF0F8",
           "linecolor": "#EBF0F8",
           "ticks": "",
           "title": {
            "standoff": 15
           },
           "zerolinecolor": "#EBF0F8",
           "zerolinewidth": 2
          }
         }
        },
        "title": {
         "text": "Clustering Metrics"
        },
        "xaxis": {
         "title": {
          "text": "Number of Clusters"
         }
        },
        "yaxis": {
         "showgrid": false,
         "side": "left",
         "title": {
          "text": "Normalized Inertia"
         },
         "zeroline": false
        },
        "yaxis2": {
         "overlaying": "y",
         "showgrid": false,
         "side": "right",
         "title": {
          "standoff": 10,
          "text": "Normalized Score (0-1)"
         },
         "zeroline": false
        }
       }
      }
     },
     "metadata": {},
     "output_type": "display_data"
    }
   ],
   "source": [
    "# Example data (replace with your actual data)\n",
    "data = population.copy()\n",
    "data = data.loc[:, [\"lat\", \"lon\"]]\n",
    "\n",
    "# Initialize dictionaries to store metrics\n",
    "metrics = {\"inertia\": [], \"silhouette\": [], \"davies_bouldin\": []}\n",
    "\n",
    "# Range for the number of clusters\n",
    "cluster_range = range(2, 20)\n",
    "\n",
    "# Calculate metrics for each number of clusters\n",
    "for i in cluster_range:\n",
    "    model = KMeans(n_clusters=i, random_state=0)\n",
    "    model.fit(data[[\"lat\", \"lon\"]])\n",
    "    metrics[\"inertia\"].append(model.inertia_)\n",
    "    metrics[\"silhouette\"].append(silhouette_score(data[[\"lat\", \"lon\"]], model.labels_))\n",
    "    metrics[\"davies_bouldin\"].append(\n",
    "        davies_bouldin_score(data[[\"lat\", \"lon\"]], model.labels_)\n",
    "    )\n",
    "\n",
    "# Create interactive plots using Plotly\n",
    "fig = go.Figure()\n",
    "\n",
    "# Inertia Plot\n",
    "fig.add_trace(\n",
    "    go.Scatter(\n",
    "        x=list(cluster_range),\n",
    "        y=metrics[\"inertia\"],\n",
    "        mode=\"lines+markers\",\n",
    "        name=\"Inertia\",\n",
    "        yaxis=\"y\",\n",
    "    )\n",
    ")\n",
    "\n",
    "# Silhouette Plot\n",
    "fig.add_trace(\n",
    "    go.Scatter(\n",
    "        x=list(cluster_range),\n",
    "        y=metrics[\"silhouette\"],\n",
    "        mode=\"lines+markers\",\n",
    "        name=\"Silhouette Score\",\n",
    "        yaxis=\"y2\",\n",
    "    )\n",
    ")\n",
    "\n",
    "# Davies-Bouldin Plot\n",
    "fig.add_trace(\n",
    "    go.Scatter(\n",
    "        x=list(cluster_range),\n",
    "        y=metrics[\"davies_bouldin\"],\n",
    "        mode=\"lines+markers\",\n",
    "        name=\"Davies-Bouldin Score\",\n",
    "        yaxis=\"y2\",\n",
    "    )\n",
    ")\n",
    "\n",
    "# Update layout\n",
    "fig.update_layout(\n",
    "    title=\"Clustering Metrics\",\n",
    "    xaxis_title=\"Number of Clusters\",\n",
    "    yaxis_title=\"Inertia\",\n",
    "    legend_title=\"Metric\",\n",
    "    template=\"plotly_white\",\n",
    "    yaxis=dict(side=\"left\", showgrid=False, zeroline=False, title=\"Normalized Inertia\"),\n",
    "    yaxis2=dict(\n",
    "        side=\"right\",\n",
    "        overlaying=\"y\",\n",
    "        showgrid=False,\n",
    "        zeroline=False,\n",
    "        title=\"Normalized Score (0-1)\",\n",
    "        title_standoff=10,  # Adjust the distance between the axis title and axis tick labels\n",
    "    ),\n",
    "    margin=dict(r=100, t=100),  # Adjust the right and top margins\n",
    ")\n",
    "\n",
    "# Show plot\n",
    "fig.show()\n"
   ]
  },
  {
   "cell_type": "code",
   "execution_count": 38,
   "metadata": {},
   "outputs": [],
   "source": [
    "data = population.copy()\n",
    "distance = distance.copy()\n",
    "\n",
    "# Standardize the data\n",
    "\n",
    "distance = MinMaxScaler().fit_transform(distance)\n",
    "fixed_cost = 1\n",
    "\n",
    "model = pulp.LpProblem(\"UFLP\", pulp.LpMinimize)\n",
    "\n",
    "max_assignments_per_facility = 180\n",
    "# Decision variables\n",
    "I = range(len(data))\n",
    "J = range(len(data))\n",
    "\n",
    "x = pulp.LpVariable.dicts(\"x\", ((i, j) for i in I for j in J), cat=\"Binary\")\n",
    "y = pulp.LpVariable.dicts(\"y\", J, cat=\"Binary\")\n",
    "\n",
    "# Objective function\n",
    "model += (\n",
    "    pulp.lpSum(distance[i][j] * x[(i, j)] for i in I for j in J)\n",
    "    + fixed_cost * pulp.lpSum(y[j] for j in J),\n",
    "    \"Total cost\",\n",
    ")\n",
    "\n",
    "# Constraints\n",
    "for i in I:\n",
    "    model += pulp.lpSum(x[(i, j)] for j in J) == 1, f\"Population demand {i}\"\n",
    "    model += (\n",
    "        pulp.lpSum(x[(i, j)] for j in J) <= max_assignments_per_facility,\n",
    "        f\"Max assignments {i}\",\n",
    "    )\n",
    "\n",
    "for j in J:\n",
    "    model += (\n",
    "        pulp.lpSum(x[(i, j)] for i in I) <= len(data) * y[j],\n",
    "        f\"Facility assignment {j}\",\n",
    "    )\n",
    "\n",
    "# Solve the model\n",
    "model.solve()\n",
    "\n",
    "# Results\n",
    "print(f\"Status: {pulp.LpStatus[model.status]}\")\n",
    "print(f\"Objective function: {pulp.value(model.objective)}\")\n",
    "print(f\"Number of facilities: {pulp.value(pulp.lpSum(y[j] for j in J))}\")\n",
    "\n",
    "df = pd.DataFrame([[pulp.value(x[(i, j)]) for j in J] for i in I], columns=J, index=I)\n",
    "\n",
    "# Plot the results data['lon', 'lat'] and df being the clusters\n",
    "fig = px.scatter(data, x=\"lon\", y=\"lat\", color=df.idxmax(axis=1), title=\"Clusters\")\n",
    "fig.show()\n"
   ]
  }
 ],
 "metadata": {
  "kernelspec": {
   "display_name": ".venv",
   "language": "python",
   "name": "python3"
  },
  "language_info": {
   "codemirror_mode": {
    "name": "ipython",
    "version": 3
   },
   "file_extension": ".py",
   "mimetype": "text/x-python",
   "name": "python",
   "nbconvert_exporter": "python",
   "pygments_lexer": "ipython3",
   "version": "3.11.9"
  }
 },
 "nbformat": 4,
 "nbformat_minor": 2
}
