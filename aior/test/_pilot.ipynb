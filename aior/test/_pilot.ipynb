{
 "cells": [
  {
   "cell_type": "markdown",
   "metadata": {},
   "source": [
    "# Uncapacitated Facility Location Problem"
   ]
  },
  {
   "cell_type": "markdown",
   "metadata": {},
   "source": [
    "## Load the data"
   ]
  },
  {
   "cell_type": "code",
   "execution_count": null,
   "metadata": {},
   "outputs": [],
   "source": [
    "#### Loading the data\n",
    "import os\n",
    "import pandas as pd # type: ignore\n",
    "\n",
    "# Parameters\n",
    "\n",
    "#### food demand ####\n",
    "food_per_person = 1.3 / 1000 # Tons per person\n",
    "\n",
    "#### transportation costs ####\n",
    "transportation_cost = 3364 / 10.5 # COP per ton per km\n",
    "\n",
    "#### facility costs ####\n",
    "### renting a warehouse\n",
    "warehouse_cost_per_m2 = 24450 / 4 # COP/semana\n",
    "### How much space is needed per ton of food\n",
    "space_per_ton = 10.5/7.8 * 1.1 # ton per m2\n",
    "\n",
    "# path to the data\n",
    "data_path = 'data'\n",
    "municipios_filename = 'municipios_procesado.csv'\n",
    "distance_matrix_filename = 'distance_matrix_final.csv'\n",
    "\n",
    "# load the data\n",
    "population = pd.read_csv(os.path.join(data_path, municipios_filename),\n",
    "                         index_col='dpmp',\n",
    "                         usecols=['2024'])\n",
    "distance_matrix = pd.read_csv(os.path.join(data_path, distance_matrix_filename),\n",
    "                              index_col='dpmp')\n",
    "\n",
    "# calculate the population per department = sum of the population of the municipalities in the department placed for each municipality in the department\n",
    "population_per_department = population.groupby('dp').sum()\n",
    "population['dp_population'] = population_per_department.loc[population['dp']].values"
   ]
  },
  {
   "cell_type": "markdown",
   "metadata": {},
   "source": [
    "## Load the Model"
   ]
  },
  {
   "cell_type": "code",
   "execution_count": 3,
   "metadata": {},
   "outputs": [
    {
     "ename": "TypeError",
     "evalue": "UFLP.__init__() missing 3 required positional arguments: 'h_i', 'c_ij', and 'f_j'",
     "output_type": "error",
     "traceback": [
      "\u001b[1;31m---------------------------------------------------------------------------\u001b[0m",
      "\u001b[1;31mTypeError\u001b[0m                                 Traceback (most recent call last)",
      "Cell \u001b[1;32mIn[3], line 5\u001b[0m\n\u001b[0;32m      2\u001b[0m sys\u001b[38;5;241m.\u001b[39mpath\u001b[38;5;241m.\u001b[39mappend(\u001b[38;5;124m\"\u001b[39m\u001b[38;5;124m..\u001b[39m\u001b[38;5;124m\"\u001b[39m)\n\u001b[0;32m      3\u001b[0m \u001b[38;5;28;01mfrom\u001b[39;00m \u001b[38;5;21;01mlp\u001b[39;00m\u001b[38;5;21;01m.\u001b[39;00m\u001b[38;5;21;01muflp\u001b[39;00m \u001b[38;5;28;01mimport\u001b[39;00m UFLP\n\u001b[1;32m----> 5\u001b[0m uflp \u001b[38;5;241m=\u001b[39m \u001b[43mUFLP\u001b[49m\u001b[43m(\u001b[49m\u001b[43m)\u001b[49m\n",
      "\u001b[1;31mTypeError\u001b[0m: UFLP.__init__() missing 3 required positional arguments: 'h_i', 'c_ij', and 'f_j'"
     ]
    }
   ],
   "source": [
    "import sys\n",
    "sys.path.append(\"..\")\n",
    "from lp.uflp import UFLP\n",
    "\n",
    "# h_i: demand of food in municipality i\n",
    "h = population['2024'] * food_per_person\n",
    "# c_ij: cost of transporting food from municipality i to j\n",
    "c = distance_matrix * transportation_cost\n",
    "# f_i: cost of building a warehouse in municipality i warehouse_cost_per_m2 * space_per_ton * department_demand\n",
    "f = warehouse_cost_per_m2 * space_per_ton\n",
    "\n",
    "uflp = UFLP()\n",
    "\n"
   ]
  },
  {
   "cell_type": "markdown",
   "metadata": {},
   "source": [
    "## Solve the problem"
   ]
  },
  {
   "cell_type": "code",
   "execution_count": null,
   "metadata": {},
   "outputs": [],
   "source": [
    "#### Solving the problem"
   ]
  },
  {
   "cell_type": "code",
   "execution_count": null,
   "metadata": {},
   "outputs": [],
   "source": [
    "#### Saving the solution"
   ]
  },
  {
   "cell_type": "markdown",
   "metadata": {},
   "source": [
    "## Display the data"
   ]
  },
  {
   "cell_type": "code",
   "execution_count": null,
   "metadata": {},
   "outputs": [],
   "source": [
    "#### Plotting the solution"
   ]
  },
  {
   "cell_type": "markdown",
   "metadata": {},
   "source": [
    "## END"
   ]
  }
 ],
 "metadata": {
  "kernelspec": {
   "display_name": ".venv",
   "language": "python",
   "name": "python3"
  },
  "language_info": {
   "codemirror_mode": {
    "name": "ipython",
    "version": 3
   },
   "file_extension": ".py",
   "mimetype": "text/x-python",
   "name": "python",
   "nbconvert_exporter": "python",
   "pygments_lexer": "ipython3",
   "version": "3.11.9"
  }
 },
 "nbformat": 4,
 "nbformat_minor": 2
}
