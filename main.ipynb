{
 "cells": [
  {
   "cell_type": "code",
   "execution_count": 3,
   "metadata": {},
   "outputs": [],
   "source": [
    "# main.ipynb\n",
    "# Archivo base en el que se maneja la experimentación del diseño metodológico.\n",
    "# Objetivo general: Utilizar los datos publicos (ubicados en la carpeta /data/)\n",
    "#     de municipios en los que existe información para diseñar una estrategia\n",
    "#     para distribuir alimentos en el territorio nacional.\n",
    "# Objetivos específicos:\n",
    "\n",
    "#     ---pronostico_poblacional---\n",
    "#     [IA]1. Determinar por municipio que herramienta es mejor para pronosticar\n",
    "#            la población en 10 años a partir del año actual.\n",
    "#               a. Regresión Lineal Multiple || Multiple Linear Regression.\n",
    "#               b. Arboles de Regresión || Regression Tree.\n",
    "#               c. Máquinas de Vectores de Soporte || Support Vector Machine.\n",
    "#               d. Bosques Aleatorios || Random Forest Regression.\n",
    "#               e. Redes neurales || Deep Learning.\n",
    "#               f. Regresión Tradicional.\n",
    "#     ---capacidad_y_costo---\n",
    "#     [IO]2. Determinar las capacidades y costos de almacenamiento de alimentos\n",
    "#            en cada municipio utilizando los datos del pronóstico, los datos\n",
    "#            abiertos y consideraciones de los analístas.\n",
    "#     ---pronosticar_capacidad_y_costo---\n",
    "#     [IA]3. Entrenar un clasificador desde los datos de capacidades y costos \n",
    "#            de almacenamiento por municipio.\n",
    "#               a. Arboles de Decision || Decision Tree.\n",
    "#               b. Análisis Discriminante Lineal || Linear Discriminant Analysis.\n",
    "#               c. Regresión Logística || Logistic Regression.\n",
    "#               d. Máquinas de Vectores de Soporte || Support Vector Machine.\n",
    "#               e. Redes Neurales || Deep Learning.\n",
    "#               f. Análisis de frecuencias. [Aún está en desarrollo la idea]\n",
    "#     ---cantidad_de_clusteres---\n",
    "#     [IO]4. Proponer una cantidad de clusteres que permitan disminuir el costo\n",
    "#            computacional del algoritmo optimizador y compararlo con los métodos\n",
    "#            tradicionales.\n",
    "#     ---generar_clusteres---\n",
    "#     [IA]5. Dividir los municipios en clústeres, rectificando que es viable\n",
    "#            satisfacer la demanda de alimentos con la capacidad instalada del\n",
    "#            municipio.\n",
    "#               a. k-means.\n",
    "#               b. Mapa Autoorganizado || Self-Organizing Map.\n",
    "#               c. Agrupamiento Jerárquico || Agglomerative Clustering.\n",
    "#               d. DBSCAN.\n",
    "#     ---solucionar_cflp---\n",
    "#     [IO]6. Resolver el cflp para diferentes escenarios.\n",
    "#               a. Solución ingenua (todos los municipios tienen un centro de\n",
    "#                  distribución).\n",
    "#               b. Datos completos sin clusterizar.\n",
    "#               c. Dividido por clústers.\n",
    "#    \n"
   ]
  },
  {
   "cell_type": "code",
   "execution_count": 5,
   "metadata": {},
   "outputs": [],
   "source": [
    "# Manejo básico de archivos\n",
    "import os, sys\n",
    "\n",
    "# Registro del tiempo\n",
    "import time\n",
    "\n",
    "# Manejo de datos\n",
    "import pandas as pd\n",
    "import numpy as np\n"
   ]
  },
  {
   "cell_type": "code",
   "execution_count": null,
   "metadata": {},
   "outputs": [],
   "source": [
    "# Funciones\n",
    "\n"
   ]
  },
  {
   "cell_type": "code",
   "execution_count": null,
   "metadata": {},
   "outputs": [],
   "source": []
  }
 ],
 "metadata": {
  "kernelspec": {
   "display_name": ".venv",
   "language": "python",
   "name": "python3"
  },
  "language_info": {
   "codemirror_mode": {
    "name": "ipython",
    "version": 3
   },
   "file_extension": ".py",
   "mimetype": "text/x-python",
   "name": "python",
   "nbconvert_exporter": "python",
   "pygments_lexer": "ipython3",
   "version": "3.10.12"
  }
 },
 "nbformat": 4,
 "nbformat_minor": 2
}
