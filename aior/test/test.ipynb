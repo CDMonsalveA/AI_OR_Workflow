{
 "cells": [
  {
   "cell_type": "code",
   "execution_count": 23,
   "metadata": {},
   "outputs": [
    {
     "name": "stdout",
     "output_type": "stream",
     "text": [
      "      dp    dpnom   dpmp                 mpio    1985    1986    1987    1988  \\\n",
      "1100  94  Guainía  94343        Barrancominas     NaN     NaN     NaN     NaN   \n",
      "1101  94  Guainía  94343  Barrancominas (ANM)  2151.0  2294.0  2538.0  2732.0   \n",
      "1102  94  Guainía  94343       Barrancominas*     NaN     NaN     NaN     NaN   \n",
      "\n",
      "        1989    1990  ...     2026     2027     2028     2029     2030  \\\n",
      "1100     NaN     NaN  ...      NaN      NaN      NaN      NaN      NaN   \n",
      "1101  2930.0  3104.0  ...      NaN      NaN      NaN      NaN      NaN   \n",
      "1102     NaN     NaN  ...  11561.0  11760.0  11977.0  12210.0  12416.0   \n",
      "\n",
      "         2031     2032     2033     2034     2035  \n",
      "1100      NaN      NaN      NaN      NaN      NaN  \n",
      "1101      NaN      NaN      NaN      NaN      NaN  \n",
      "1102  12629.0  12838.0  13067.0  13279.0  13464.0  \n",
      "\n",
      "[3 rows x 55 columns]\n"
     ]
    }
   ],
   "source": [
    "import sys\n",
    "sys.path.append(\"..\")\n",
    "from lp import UFLP, CFLP, TELP\n",
    "import sys\n",
    "import pandas as pd\n",
    "\n",
    "# Parameters needed for UFLP\n",
    "    # h_i : demand of customer i\n",
    "    # c_ij: cost to transform one unit of demand from facility j to customer i\n",
    "    # f_j : fixed cost to open a facility at site j\n",
    "\n",
    "# Explanation of the parameters\n",
    "    # population: population = column year of the aior\\test\\data\\poblacion_por_municipio_total.csv\n",
    "    # consumption: amount of product consumed per person (default 1) \n",
    "\n",
    "# h_i = population[year] * consumption\n",
    "# c_ij = Distance between the facility j and the customer i * cost of transporting one unit of product\n",
    "# f_j = Cost of opening a facility at site j (fixed cost, default 1)\n",
    "\n",
    "population = pd.read_csv('data/poblacion_por_municipio_total.csv')\n",
    "# show the values of population that have 'dpmp' duplicated\n",
    "print(population[population.duplicated(subset='dpmp', keep=False)])\n"
   ]
  }
 ],
 "metadata": {
  "kernelspec": {
   "display_name": ".venv",
   "language": "python",
   "name": "python3"
  },
  "language_info": {
   "codemirror_mode": {
    "name": "ipython",
    "version": 3
   },
   "file_extension": ".py",
   "mimetype": "text/x-python",
   "name": "python",
   "nbconvert_exporter": "python",
   "pygments_lexer": "ipython3",
   "version": "3.11.8"
  }
 },
 "nbformat": 4,
 "nbformat_minor": 2
}
